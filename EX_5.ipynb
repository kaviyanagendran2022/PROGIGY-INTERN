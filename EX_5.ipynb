{
  "nbformat": 4,
  "nbformat_minor": 0,
  "metadata": {
    "colab": {
      "provenance": []
    },
    "kernelspec": {
      "name": "python3",
      "display_name": "Python 3"
    },
    "language_info": {
      "name": "python"
    }
  },
  "cells": [
    {
      "cell_type": "code",
      "execution_count": null,
      "metadata": {
        "colab": {
          "base_uri": "https://localhost:8080/",
          "height": 106
        },
        "id": "q-qH5KxFVaWJ",
        "outputId": "c13d8c01-b16f-40f9-f590-ebf40b302fe1"
      },
      "outputs": [
        {
          "output_type": "error",
          "ename": "SyntaxError",
          "evalue": "incomplete input (<ipython-input-1-bea28d08c5d6>, line 28)",
          "traceback": [
            "\u001b[0;36m  File \u001b[0;32m\"<ipython-input-1-bea28d08c5d6>\"\u001b[0;36m, line \u001b[0;32m28\u001b[0m\n\u001b[0;31m    sniff(filter=\"ip\", prn=packet_analysis\u001b[0m\n\u001b[0m                                          ^\u001b[0m\n\u001b[0;31mSyntaxError\u001b[0m\u001b[0;31m:\u001b[0m incomplete input\n"
          ]
        }
      ],
      "source": [
        "!pip install scapy\n",
        "from scapy.all import *\n",
        "\n",
        "def packet_analysis(packet):\n",
        "    # Check if packet is IPv4\n",
        "    if packet.haslayer(IP):\n",
        "        # Get source and destination IP addresses\n",
        "        source_ip = packet[IP].src\n",
        "        destination_ip = packet[IP].dst\n",
        "\n",
        "        # Get protocol\n",
        "        protocol = packet[IP].proto\n",
        "\n",
        "        # Check if Raw layer exists\n",
        "        if packet.haslayer(Raw):\n",
        "            payload = packet[Raw].load\n",
        "        else:\n",
        "            payload = \"\"  # Set payload to an empty string if not present\n",
        "\n",
        "        # Print packet information\n",
        "        print(f\"Source IP: {source_ip}\")\n",
        "        print(f\"Destination IP: {destination_ip}\")\n",
        "        print(f\"Protocol: {protocol}\")\n",
        "        print(f\"Payload: {payload}\")\n",
        "        print(\"--------------------------------\")\n",
        "\n",
        "# Start sniffing\n",
        "sniff(filter=\"ip\", prn=packet_analysis)"
      ]
    }
  ]
}